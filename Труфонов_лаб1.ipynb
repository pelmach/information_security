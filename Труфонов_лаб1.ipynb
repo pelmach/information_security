{
 "cells": [
  {
   "cell_type": "code",
   "execution_count": 74,
   "id": "f9b2705b",
   "metadata": {},
   "outputs": [],
   "source": [
    "import random"
   ]
  },
  {
   "cell_type": "code",
   "execution_count": 75,
   "id": "4b60b545",
   "metadata": {},
   "outputs": [],
   "source": [
    "digits = \"1234567890\"\n",
    "lowercase_letters = \"abcdefghijklmnopqrstuvwxyz\"\n",
    "uppercase_letters = \"ABCDEFGHIJKLMNOPQRSTUVWXYZ\"\n",
    "symbols = \" !#$%&)'(*+,-./;:<=>?@]\\[}{~`^\""
   ]
  },
  {
   "cell_type": "code",
   "execution_count": 76,
   "id": "1258c617",
   "metadata": {},
   "outputs": [],
   "source": [
    "#Метод генерации паролей\n",
    "#alphabet выбирает вариант использованных симвлов для создания пароля\n",
    "def generation(length, alphabet):\n",
    "    password = \"\"\n",
    "    list = [[lowercase_letters],\n",
    "            [uppercase_letters],\n",
    "            [digits, lowercase_letters],\n",
    "            [digits, uppercase_letters],\n",
    "            [lowercase_letters, uppercase_letters],\n",
    "            [digits, uppercase_letters, lowercase_letters, symbols]]\n",
    "            \n",
    "    #генерация пароля\n",
    "    if lenght < 8:\n",
    "        return print(\"Пароль должен иметь в себе не менее 8 символов\")\n",
    "    else:\n",
    "        while len(password) < length:\n",
    "            if alphabet == 1 or alphabet == 2:\n",
    "                password += random.choice(list[alphabet-1][0])\n",
    "            elif alphabet <= 3 or alphabet <= 5:\n",
    "                password += random.choice(list[alphabet-1][random.randint(0, 1)])\n",
    "            elif alphabet == 6:\n",
    "                password += random.choice(list[alphabet-1][random.randint(0, 3)])\n",
    "                \n",
    "        return password\n",
    "                "
   ]
  },
  {
   "cell_type": "code",
   "execution_count": 77,
   "id": "2a134085",
   "metadata": {},
   "outputs": [],
   "source": [
    "#Метод определяющий мощность алфавита\n",
    "def power(alphabet):\n",
    "    if alphabet == 1 or alphabet == 2:\n",
    "        return 26\n",
    "    elif alphabet == 3 or alphabet == 4:\n",
    "        return 36\n",
    "    elif alphabet == 5:\n",
    "        return 52\n",
    "    elif alphabet == 6:\n",
    "        return 95\n"
   ]
  },
  {
   "cell_type": "code",
   "execution_count": 78,
   "id": "62f18e8d",
   "metadata": {},
   "outputs": [],
   "source": [
    "def combination(power, alphabet):\n",
    "    if 0 <= power <= alphabet:\n",
    "        nn = 1\n",
    "        kk = 1\n",
    "        for t in range(1, min(alphabet, power - alphabet) + 1):\n",
    "            nn *= alphabet\n",
    "            kk *= t\n",
    "            n -= 1\n",
    "        return nn // kk\n",
    "    else:\n",
    "        return 0"
   ]
  },
  {
   "cell_type": "code",
   "execution_count": null,
   "id": "5917bc24",
   "metadata": {},
   "outputs": [],
   "source": []
  },
  {
   "cell_type": "code",
   "execution_count": 79,
   "id": "0ae8c8c7",
   "metadata": {},
   "outputs": [],
   "source": [
    "lenght = 8\n",
    "alphabet = 5\n",
    "password = generation(lenght, alphabet)"
   ]
  },
  {
   "cell_type": "code",
   "execution_count": 80,
   "id": "2e44cc29",
   "metadata": {},
   "outputs": [
    {
     "data": {
      "text/plain": [
       "'CqSiyYrb'"
      ]
     },
     "execution_count": 80,
     "metadata": {},
     "output_type": "execute_result"
    }
   ],
   "source": [
    "password"
   ]
  },
  {
   "cell_type": "code",
   "execution_count": 81,
   "id": "11a9c399",
   "metadata": {},
   "outputs": [],
   "source": [
    "power = power(alphabet)"
   ]
  },
  {
   "cell_type": "code",
   "execution_count": 82,
   "id": "1c2433a2",
   "metadata": {},
   "outputs": [
    {
     "data": {
      "text/plain": [
       "52"
      ]
     },
     "execution_count": 82,
     "metadata": {},
     "output_type": "execute_result"
    }
   ],
   "source": [
    "power"
   ]
  },
  {
   "cell_type": "code",
   "execution_count": 83,
   "id": "67213d7a",
   "metadata": {},
   "outputs": [],
   "source": [
    "comb = combination(power, alphabet)"
   ]
  },
  {
   "cell_type": "code",
   "execution_count": 84,
   "id": "9ada4fd3",
   "metadata": {},
   "outputs": [
    {
     "data": {
      "text/plain": [
       "0"
      ]
     },
     "execution_count": 84,
     "metadata": {},
     "output_type": "execute_result"
    }
   ],
   "source": [
    "comb"
   ]
  },
  {
   "cell_type": "code",
   "execution_count": null,
   "id": "d573cc2f",
   "metadata": {},
   "outputs": [],
   "source": []
  }
 ],
 "metadata": {
  "kernelspec": {
   "display_name": "Python 3 (ipykernel)",
   "language": "python",
   "name": "python3"
  },
  "language_info": {
   "codemirror_mode": {
    "name": "ipython",
    "version": 3
   },
   "file_extension": ".py",
   "mimetype": "text/x-python",
   "name": "python",
   "nbconvert_exporter": "python",
   "pygments_lexer": "ipython3",
   "version": "3.9.12"
  }
 },
 "nbformat": 4,
 "nbformat_minor": 5
}
